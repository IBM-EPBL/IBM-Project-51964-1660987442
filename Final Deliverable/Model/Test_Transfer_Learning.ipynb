{
  "nbformat": 4,
  "nbformat_minor": 0,
  "metadata": {
    "colab": {
      "provenance": [],
      "collapsed_sections": []
    },
    "kernelspec": {
      "name": "python3",
      "display_name": "Python 3"
    },
    "language_info": {
      "name": "python"
    }
  },
  "cells": [
    {
      "cell_type": "markdown",
      "source": [
        "Test The Model"
      ],
      "metadata": {
        "id": "Tf6P0X1AoqUv"
      }
    },
    {
      "cell_type": "code",
      "execution_count": 2,
      "metadata": {
        "id": "FnJYCfu6oXnJ"
      },
      "outputs": [],
      "source": [
        "from tensorflow.keras.models import load_model\n",
        "from tensorflow.keras.preprocessing import image\n",
        "from tensorflow.keras.applications.inception_v3 import preprocess_input\n",
        "import numpy as np\n"
      ]
    },
    {
      "cell_type": "code",
      "source": [
        "model = load_model('/content/drive/MyDrive/IBM/Project/Updated-Xception-diabetic-retinopathy.h5')"
      ],
      "metadata": {
        "id": "5O7OZXrDpsSv"
      },
      "execution_count": 5,
      "outputs": []
    },
    {
      "cell_type": "code",
      "source": [
        "#load ramdom image from local system\n",
        "img = image.load_img(r'/content/drive/MyDrive/IBM/Project/upload/PDR.jpg' , target_size=(299,299))"
      ],
      "metadata": {
        "id": "bsSix4sJrLwM"
      },
      "execution_count": 8,
      "outputs": []
    },
    {
      "cell_type": "code",
      "source": [
        "#convert img to array\n",
        "arrayImg = image.img_to_array(img)"
      ],
      "metadata": {
        "id": "oLTEB5fVtDzx"
      },
      "execution_count": 12,
      "outputs": []
    },
    {
      "cell_type": "code",
      "source": [
        "import matplotlib.pyplot as plt"
      ],
      "metadata": {
        "id": "WCP1A1omtWaV"
      },
      "execution_count": 10,
      "outputs": []
    },
    {
      "cell_type": "code",
      "source": [
        "arrayImg.shape"
      ],
      "metadata": {
        "colab": {
          "base_uri": "https://localhost:8080/"
        },
        "id": "ywRPVvSStmVY",
        "outputId": "835fd009-78b9-41da-d032-1c7954fbcce6"
      },
      "execution_count": 13,
      "outputs": [
        {
          "output_type": "execute_result",
          "data": {
            "text/plain": [
              "(299, 299, 3)"
            ]
          },
          "metadata": {},
          "execution_count": 13
        }
      ]
    },
    {
      "cell_type": "code",
      "source": [
        "import numpy as np\n",
        "arrayImg = np.expand_dims(x , axis=0)\n",
        "img_data = preprocess_input(arrayImg)\n",
        "img_data.shape"
      ],
      "metadata": {
        "colab": {
          "base_uri": "https://localhost:8080/"
        },
        "id": "1EbBrX2atoNj",
        "outputId": "155c7339-4cce-4666-cf31-f375d9c4c545"
      },
      "execution_count": 14,
      "outputs": [
        {
          "output_type": "execute_result",
          "data": {
            "text/plain": [
              "(1, 299, 299, 3)"
            ]
          },
          "metadata": {},
          "execution_count": 14
        }
      ]
    },
    {
      "cell_type": "code",
      "source": [
        "model.predict(img_data)"
      ],
      "metadata": {
        "colab": {
          "base_uri": "https://localhost:8080/"
        },
        "id": "J1whcwWNuUND",
        "outputId": "e452af21-57dc-475f-e513-2904ef18fc99"
      },
      "execution_count": 15,
      "outputs": [
        {
          "output_type": "stream",
          "name": "stdout",
          "text": [
            "1/1 [==============================] - 2s 2s/step\n"
          ]
        },
        {
          "output_type": "execute_result",
          "data": {
            "text/plain": [
              "array([[1.40166845e-11, 8.72857253e-09, 1.59445044e-08, 3.99780248e-07,\n",
              "        9.99999523e-01]], dtype=float32)"
            ]
          },
          "metadata": {},
          "execution_count": 15
        }
      ]
    },
    {
      "cell_type": "code",
      "source": [
        "output = np.argmax(model.predict(img_data), axis=1)"
      ],
      "metadata": {
        "colab": {
          "base_uri": "https://localhost:8080/"
        },
        "id": "l2BG1LqluuDq",
        "outputId": "70bf61e1-df61-4f96-affc-d31da7e272ee"
      },
      "execution_count": 16,
      "outputs": [
        {
          "output_type": "stream",
          "name": "stdout",
          "text": [
            "1/1 [==============================] - 0s 385ms/step\n"
          ]
        }
      ]
    },
    {
      "cell_type": "code",
      "source": [
        "output == 0 , output == 1 , output == 2 , output == 3, output == 4"
      ],
      "metadata": {
        "colab": {
          "base_uri": "https://localhost:8080/"
        },
        "id": "UEcC-keZu8M_",
        "outputId": "9e64505b-1aad-4eb2-feca-c1ab1a2d0b8d"
      },
      "execution_count": 17,
      "outputs": [
        {
          "output_type": "execute_result",
          "data": {
            "text/plain": [
              "(array([False]),\n",
              " array([False]),\n",
              " array([False]),\n",
              " array([False]),\n",
              " array([ True]))"
            ]
          },
          "metadata": {},
          "execution_count": 17
        }
      ]
    },
    {
      "cell_type": "code",
      "source": [
        "index = ['No Diabetic Retinopathy' , 'Mild DR' , 'Moderate DR' , 'Severe DR' , 'Proliferative DR']\n",
        "result = str(index[output[0]])\n",
        "result"
      ],
      "metadata": {
        "colab": {
          "base_uri": "https://localhost:8080/",
          "height": 36
        },
        "id": "XB7TxDNwwJWT",
        "outputId": "442de4be-c7b0-4fbc-9832-3b8d8eed5ecd"
      },
      "execution_count": 18,
      "outputs": [
        {
          "output_type": "execute_result",
          "data": {
            "text/plain": [
              "'Proliferative DR'"
            ],
            "application/vnd.google.colaboratory.intrinsic+json": {
              "type": "string"
            }
          },
          "metadata": {},
          "execution_count": 18
        }
      ]
    },
    {
      "cell_type": "code",
      "source": [],
      "metadata": {
        "id": "yYWhSFLux16I"
      },
      "execution_count": null,
      "outputs": []
    }
  ]
}